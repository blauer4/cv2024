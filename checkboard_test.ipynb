{
 "cells": [
  {
   "cell_type": "code",
   "execution_count": 23,
   "metadata": {},
   "outputs": [],
   "source": [
    "import numpy as np\n",
    "import cv2\n",
    "import os"
   ]
  },
  {
   "cell_type": "code",
   "execution_count": 24,
   "metadata": {},
   "outputs": [
    {
     "name": "stdout",
     "output_type": "stream",
     "text": [
      "Number of frames in the video:  2584\n"
     ]
    }
   ],
   "source": [
    "camera_number = 1\n",
    "frame_count = 0\n",
    "frame_skip = 30\n",
    "\n",
    "abs_dir_path = \"/home/emanuele/ComputerVision/CV-CameraCalibration/videos/\"\n",
    "VIDEO_NAME = f'out{camera_number}F.mp4'\n",
    "ROW_POINTS = 5\n",
    "COLUMNS_POINTS = 5\n",
    "# Open the video file\n",
    "video_capture = cv2.VideoCapture(f'{abs_dir_path}{VIDEO_NAME}')\n",
    "\n",
    "# Print the number of frames in the video\n",
    "number_of_frame = int(video_capture.get(cv2.CAP_PROP_FRAME_COUNT))\n",
    "print(\"Number of frames in the video: \", number_of_frame)"
   ]
  },
  {
   "cell_type": "code",
   "execution_count": 25,
   "metadata": {},
   "outputs": [
    {
     "name": "stdout",
     "output_type": "stream",
     "text": [
      "Saving frames to  samples/out1F.mp4\n"
     ]
    }
   ],
   "source": [
    "# Create a directory to save the screen captures named as the video file\n",
    "output_dir = 'samples/' + VIDEO_NAME\n",
    "os.makedirs(output_dir, exist_ok=True)\n",
    "print(\"Saving frames to \", output_dir)\n",
    "# Remove all files in the directory\n",
    "for file in os.listdir(output_dir):\n",
    "    os.remove(os.path.join(output_dir, file))\n",
    "\n"
   ]
  },
  {
   "cell_type": "code",
   "execution_count": 13,
   "metadata": {},
   "outputs": [
    {
     "name": "stdout",
     "output_type": "stream",
     "text": [
      "False\n",
      "570\n",
      "False\n",
      "600\n"
     ]
    },
    {
     "ename": "KeyboardInterrupt",
     "evalue": "",
     "output_type": "error",
     "traceback": [
      "\u001b[0;31m---------------------------------------------------------------------------\u001b[0m",
      "\u001b[0;31mKeyboardInterrupt\u001b[0m                         Traceback (most recent call last)",
      "Cell \u001b[0;32mIn[13], line 15\u001b[0m\n\u001b[1;32m     12\u001b[0m gray \u001b[38;5;241m=\u001b[39m cv2\u001b[38;5;241m.\u001b[39mcvtColor(img, cv2\u001b[38;5;241m.\u001b[39mCOLOR_BGR2GRAY)\n\u001b[1;32m     13\u001b[0m \u001b[38;5;66;03m#corners = []\u001b[39;00m\n\u001b[1;32m     14\u001b[0m \u001b[38;5;66;03m# Find the chessboard corners\u001b[39;00m\n\u001b[0;32m---> 15\u001b[0m found_corners, corners \u001b[38;5;241m=\u001b[39m \u001b[43mcv2\u001b[49m\u001b[38;5;241;43m.\u001b[39;49m\u001b[43mfindChessboardCorners\u001b[49m\u001b[43m(\u001b[49m\u001b[43mgray\u001b[49m\u001b[43m,\u001b[49m\u001b[43m \u001b[49m\u001b[43m(\u001b[49m\u001b[43mROW_POINTS\u001b[49m\u001b[43m,\u001b[49m\u001b[43m \u001b[49m\u001b[43mCOLUMNS_POINTS\u001b[49m\u001b[43m)\u001b[49m\u001b[43m,\u001b[49m\u001b[43m \u001b[49m\u001b[43mcorners\u001b[49m\u001b[38;5;241;43m=\u001b[39;49m\u001b[43m \u001b[49m\u001b[38;5;28;43;01mNone\u001b[39;49;00m\u001b[43m)\u001b[49m\n\u001b[1;32m     16\u001b[0m \u001b[38;5;28mprint\u001b[39m(found_corners)\n\u001b[1;32m     17\u001b[0m res_img \u001b[38;5;241m=\u001b[39m cv2\u001b[38;5;241m.\u001b[39mdrawChessboardCorners(img,(ROW_POINTS,COLUMNS_POINTS),corners,found_corners)\n",
      "\u001b[0;31mKeyboardInterrupt\u001b[0m: "
     ]
    }
   ],
   "source": [
    "\n",
    "\n",
    "while True:\n",
    "        # Read a frame from the video\n",
    "        ret, img = video_capture.read()\n",
    "        if not ret:\n",
    "            break  # Break the loop if we've reached the end of the video\n",
    "\n",
    "        # Skip frames based on the frame_skip value\n",
    "        if frame_count % frame_skip == 0:\n",
    "            # Resize the frame to the new_resolution\n",
    "            real_img = img\n",
    "            \n",
    "            gray = cv2.cvtColor(img, cv2.COLOR_BGR2GRAY)\n",
    "            #corners = []\n",
    "            # Find the chessboard corners\n",
    "            found_corners, corners = cv2.findChessboardCorners(gray, (ROW_POINTS, COLUMNS_POINTS), corners= None)\n",
    "            print(found_corners)\n",
    "            res_img = cv2.drawChessboardCorners(img,(ROW_POINTS,COLUMNS_POINTS),corners,found_corners)\n",
    "            if found_corners:\n",
    "                print(f'corners: {corners[0:3]}')\n",
    "                \n",
    "                cv2.namedWindow(f'frame {frame_count}', flags= cv2.WINDOW_NORMAL)\n",
    "                cv2.resizeWindow(f'frame {frame_count}', 1280, 720)\n",
    "                cv2.imshow(f'frame {frame_count}', res_img)\n",
    "                cv2.waitKey(10000)\n",
    "                cv2.destroyAllWindows()\n",
    "            print(frame_count)\n",
    "        \n",
    "            #print(\"Frame \", frame_count, \":\", found_corners)\n",
    "            #res_img = cv2.cvtColor(res_img, cv2.COLOR_GRAY2BGR)\n",
    "        frame_count += 1  \n",
    "        if frame_count == 1000:\n",
    "            break  "
   ]
  },
  {
   "cell_type": "code",
   "execution_count": 32,
   "metadata": {},
   "outputs": [],
   "source": [
    "video_capture = cv2.VideoCapture(f'{abs_dir_path}{VIDEO_NAME}')\n",
    "\n",
    "FRAME_NUMBER = 200\n",
    "frame_count = 0\n",
    "img = 0\n",
    "while frame_count != FRAME_NUMBER:\n",
    "    ret, img = video_capture.read()\n",
    "    frame_count += 1\n",
    "\n",
    "\n",
    "cv2.namedWindow(f'{FRAME_NUMBER}', flags= cv2.WINDOW_NORMAL)\n",
    "cv2.resizeWindow(f'{FRAME_NUMBER}', 1280, 720)\n",
    "cv2.imshow(f'{FRAME_NUMBER}', img)\n",
    "cv2.waitKey(0)\n",
    "\n",
    "gray = cv2.cvtColor(img, cv2.COLOR_BGR2GRAY)\n",
    "\n",
    "found_corners, corners = cv2.findChessboardCorners(gray, (ROW_POINTS, COLUMNS_POINTS), corners= None)\n",
    "res_img = cv2.drawChessboardCorners(img,(ROW_POINTS,COLUMNS_POINTS),corners,found_corners)\n",
    "if found_corners:\n",
    "    cv2.imshow(f'{FRAME_NUMBER}', res_img)\n",
    "    cv2.waitKey(10000)\n",
    "cv2.destroyAllWindows()"
   ]
  }
 ],
 "metadata": {
  "kernelspec": {
   "display_name": "siv_env",
   "language": "python",
   "name": "python3"
  },
  "language_info": {
   "codemirror_mode": {
    "name": "ipython",
    "version": 3
   },
   "file_extension": ".py",
   "mimetype": "text/x-python",
   "name": "python",
   "nbconvert_exporter": "python",
   "pygments_lexer": "ipython3",
   "version": "3.8.10"
  }
 },
 "nbformat": 4,
 "nbformat_minor": 2
}
