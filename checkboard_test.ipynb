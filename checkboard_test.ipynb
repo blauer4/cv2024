{
 "cells": [
  {
   "cell_type": "code",
   "execution_count": 6,
   "metadata": {},
   "outputs": [],
   "source": [
    "import numpy as np\n",
    "import cv2\n",
    "import os\n",
    "import json\n",
    "\n",
    "def create2DArray(start_val, end_val):\n",
    "    chess_2d_array = []\n",
    "    val = np.arange(start_val,end_val)\n",
    "    for a in val:\n",
    "        for b in val:\n",
    "            chess_2d_array.append([a,b])\n",
    "    return chess_2d_array\n",
    "\n",
    "#corners: quello che ti dà la findChessboardCorners\n",
    "def saveToJSON(dict, camera_number):\n",
    "    with open(f\"{camera_number}Fcorners.json\", \"a+\") as outfile:\n",
    "        json.dump(dict, outfile)\n",
    "        return True\n",
    "    return False"
   ]
  },
  {
   "cell_type": "code",
   "execution_count": 7,
   "metadata": {},
   "outputs": [
    {
     "name": "stdout",
     "output_type": "stream",
     "text": [
      "Number of frames in the video:  3260\n"
     ]
    }
   ],
   "source": [
    "camera_number = 13\n",
    "frame_count = 0\n",
    "image_number = 10\n",
    "\n",
    "#print(os.listdir())\n",
    "\n",
    "abs_dir_path = \"videos/\"\n",
    "VIDEO_NAME = f'out{camera_number}F.mp4'\n",
    "ROW_POINTS = 5\n",
    "COLUMNS_POINTS = 7\n",
    "# Open the video file \n",
    "video_capture = cv2.VideoCapture(filename=f'{abs_dir_path}{VIDEO_NAME}')\n",
    "\n",
    "# Print the number of frames in the video\n",
    "number_of_frame = int(video_capture.get(cv2.CAP_PROP_FRAME_COUNT))\n",
    "print(\"Number of frames in the video: \", number_of_frame)\n",
    "#superior level frame_skip\n",
    "frame_skip = number_of_frame / image_number\n",
    "#sub level frame skip 10 frames\n",
    "sub_skip = 10"
   ]
  },
  {
   "cell_type": "code",
   "execution_count": 8,
   "metadata": {},
   "outputs": [
    {
     "data": {
      "text/plain": [
       "['videos',\n",
       " 'README.md',\n",
       " '__pycache__',\n",
       " 'Calibration.pdf',\n",
       " 'CVprojects-Sport.pdf',\n",
       " 'scacchiere',\n",
       " 'Rizzetto-Tomaselli_Report.pdf',\n",
       " '.git',\n",
       " 'chessboard_calibration.py',\n",
       " 'Accuracy_Evaluation_and_Prediction_of_Single-Image_Camera_Calibration.pdf',\n",
       " 'LICENSE',\n",
       " 'samples',\n",
       " 'report',\n",
       " '.gitignore',\n",
       " 'lib',\n",
       " 'checkboard_test.ipynb',\n",
       " 'appunti']"
      ]
     },
     "execution_count": 8,
     "metadata": {},
     "output_type": "execute_result"
    }
   ],
   "source": [
    "os.listdir()\n",
    "#os.chdir('..')"
   ]
  },
  {
   "cell_type": "code",
   "execution_count": 9,
   "metadata": {},
   "outputs": [
    {
     "name": "stdout",
     "output_type": "stream",
     "text": [
      "Saving frames to  samples/out13\n"
     ]
    }
   ],
   "source": [
    "# Create a directory to save the screen captures named as the video file\n",
    "output_dir = 'samples/' + f'out{camera_number}'\n",
    "os.makedirs(output_dir, exist_ok=True)\n",
    "print(\"Saving frames to \", output_dir)\n",
    "# Remove all files in the directory\n",
    "for file in os.listdir(output_dir):\n",
    "    os.remove(os.path.join(output_dir, file))\n"
   ]
  },
  {
   "cell_type": "code",
   "execution_count": 10,
   "metadata": {},
   "outputs": [
    {
     "name": "stdout",
     "output_type": "stream",
     "text": [
      "3260\n",
      "video corners search ended, saving images to samples/out13\n",
      "frames analyzed: 1087\n"
     ]
    }
   ],
   "source": [
    "import lib.util as util\n",
    "import lib.Calibration as cal\n",
    "import re\n",
    "\n",
    "camera_number = '13F'\n",
    "relative_path = \"videos/\"\n",
    "VIDEO_NAME = f'out{camera_number}.mp4'\n",
    "video_path = f'{relative_path}{VIDEO_NAME}'\n",
    "\n",
    "all_chessboard_sizes = [(5, 7), (5, 7), (5, 7), (5, 7), (6, 9), (6, 9), (5, 7), (6, 9), (6, 9), (0, 0), (6, 9), (5, 7),\n",
    "                        (5, 7)]\n",
    "\n",
    "chessboard_size = all_chessboard_sizes[int(re.search(\"\\d*\", camera_number)[0]) - 1]\n",
    "\n",
    "CHESS_WIDTH = chessboard_size[0]\n",
    "CHESS_HEIGHT = chessboard_size[1]\n",
    "\n",
    "v8F = cal.Calibration(video_path, CHESS_WIDTH, CHESS_HEIGHT)\n",
    "print(v8F.total_frame_number)\n",
    "imgpoints = v8F.fastCalibrationImageSearch(output_dir= output_dir, skip_step=3, batch_size=5)\n",
    "\n",
    "#util.saveToJSON({[f'{camera_number}',imgpoints]}, 8)"
   ]
  },
  {
   "cell_type": "code",
   "execution_count": 10,
   "metadata": {},
   "outputs": [
    {
     "name": "stdout",
     "output_type": "stream",
     "text": [
      "0\n",
      "10\n",
      "20\n",
      "30\n",
      "40\n",
      "50\n",
      "60\n",
      "70\n",
      "80\n",
      "90\n",
      "100\n",
      "110\n",
      "120\n",
      "130\n",
      "saving to JSON\n",
      "140\n",
      "150\n",
      "160\n",
      "170\n",
      "180\n",
      "190\n",
      "200\n",
      "210\n",
      "220\n",
      "saving to JSON\n",
      "230\n",
      "240\n",
      "250\n",
      "260\n",
      "270\n",
      "280\n",
      "290\n",
      "True\n"
     ]
    }
   ],
   "source": [
    "##JSON TEST\n",
    "frame_skip = 10\n",
    "for i in range(1400):\n",
    "    ret, img = video_capture.read()\n",
    "\n",
    "json_dict = {}\n",
    "\n",
    "while True:\n",
    "        # Read a frame from the video\n",
    "        ret, img = video_capture.read()\n",
    "        if not ret:\n",
    "            break  # Break the loop if we've reached the end of the video\n",
    "\n",
    "        # Skip frames based on the frame_skip value\n",
    "        if frame_count % frame_skip == 0 :\n",
    "            # Resize the frame to the new_resolution\n",
    "            real_img = img\n",
    "            \n",
    "            gray = cv2.cvtColor(img, cv2.COLOR_BGR2GRAY)\n",
    "            #corners = []\n",
    "            # Find the chessboard corners\n",
    "            found_corners, corners = cv2.findChessboardCorners(gray, (ROW_POINTS, COLUMNS_POINTS), corners= None)\n",
    "            #res_img = cv2.drawChessboardCorners(img,(ROW_POINTS,COLUMNS_POINTS),corners,found_corners)\n",
    "            if found_corners:\n",
    "                #populating the dictionary with the points\n",
    "                print('saving to JSON')\n",
    "                json_dict.update([[f\"{camera_number}_{1000 + frame_count}\" , corners.tolist()]])\n",
    "            print(frame_count)\n",
    "        \n",
    "            #print(\"Frame \", frame_count, \":\", found_corners)\n",
    "            #res_img = cv2.cvtColor(res_img, cv2.COLOR_GRAY2BGR)\n",
    "        frame_count += 1  \n",
    "        if frame_count == 300:\n",
    "            break  \n",
    "\n",
    "res = saveToJSON(json_dict, camera_number)\n",
    "print(res)"
   ]
  },
  {
   "cell_type": "code",
   "execution_count": null,
   "metadata": {},
   "outputs": [],
   "source": [
    "video_capture = cv2.VideoCapture(f'{abs_dir_path}{VIDEO_NAME}')\n",
    "\n",
    "FRAME_NUMBER = 500\n",
    "frame_count = 0\n",
    "img = 0\n",
    "while frame_count != FRAME_NUMBER:\n",
    "    ret, img = video_capture.read()\n",
    "    frame_count += 1\n",
    "\n",
    "res_img = img\n",
    "\n",
    "cv2.namedWindow(f'{FRAME_NUMBER}', flags= cv2.WINDOW_NORMAL)\n",
    "cv2.resizeWindow(f'{FRAME_NUMBER}', 1280, 720)\n",
    "# cv2.imshow(f'{FRAME_NUMBER}', img)\n",
    "# cv2.waitKey(0)\n",
    "# cv2.destroyAllWindows()\n",
    "gray = cv2.cvtColor(img, cv2.COLOR_BGR2GRAY)\n",
    "\n",
    "found_config = []\n",
    "found_corners = []\n",
    "\n",
    "np.arange(1,8)\n",
    "\n",
    "print(create2DArray(3,8))\n",
    "\n",
    "for a,b in create2DArray(5,8):\n",
    "    print(f\"{a}, {b}\")\n",
    "    ret, corners = cv2.findChessboardCorners(gray, (a, b), None)\n",
    "    if ret == True:\n",
    "        print(\"found one\")\n",
    "        found_config.append([a,b])\n",
    "        found_corners.append([[a,b],corners])\n",
    "\n",
    "print(f\"configurazioni trovate: {found_config}\")\n",
    "\n",
    "cv2.drawChessboardCorners(res_img,(found_config[0][0],found_config[0][1]), found_corners[0][1], True)\n",
    "cv2.imshow(f'{FRAME_NUMBER}', res_img)\n",
    "cv2.waitKey(0)\n",
    "cv2.destroyAllWindows()\n",
    "\n",
    "img_path_name = f'{found_config[0]}.jpg'\n",
    "cv2.imwrite(img_path_name, res_img)"
   ]
  },
  {
   "cell_type": "code",
   "execution_count": 22,
   "metadata": {},
   "outputs": [],
   "source": [
    "saveToJSON(np.array([[12,3],[3,3]]),1,210)\n",
    "saveToJSON(np.array([[12,3],[3,3]]),2,100)\n"
   ]
  }
 ],
 "metadata": {
  "kernelspec": {
   "display_name": "siv_env",
   "language": "python",
   "name": "python3"
  },
  "language_info": {
   "codemirror_mode": {
    "name": "ipython",
    "version": 3
   },
   "file_extension": ".py",
   "mimetype": "text/x-python",
   "name": "python",
   "nbconvert_exporter": "python",
   "pygments_lexer": "ipython3",
   "version": "3.8.10"
  }
 },
 "nbformat": 4,
 "nbformat_minor": 2
}
