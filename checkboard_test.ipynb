{
 "cells": [
  {
   "cell_type": "code",
   "execution_count": 2,
   "metadata": {},
   "outputs": [],
   "source": [
    "import numpy as np\n",
    "import cv2\n",
    "import os\n",
    "import json\n",
    "\n",
    "def create2DArray(start_val, end_val):\n",
    "    chess_2d_array = []\n",
    "    val = np.arange(start_val,end_val)\n",
    "    for a in val:\n",
    "        for b in val:\n",
    "            chess_2d_array.append([a,b])\n",
    "    return chess_2d_array\n",
    "\n",
    "#corners: quello che ti dà la findChessboardCorners\n",
    "def saveToJSON(dict, camera_number):\n",
    "    with open(f\"{camera_number}Fcorners.json\", \"a+\") as outfile:\n",
    "        json.dump(dict, outfile)\n",
    "        return True\n",
    "    return False"
   ]
  },
  {
   "cell_type": "code",
   "execution_count": 9,
   "metadata": {},
   "outputs": [
    {
     "name": "stdout",
     "output_type": "stream",
     "text": [
      "Number of frames in the video:  3678\n"
     ]
    }
   ],
   "source": [
    "camera_number = 8\n",
    "frame_count = 0\n",
    "image_number = 10\n",
    "\n",
    "#print(os.listdir())\n",
    "\n",
    "abs_dir_path = \"videos/\"\n",
    "VIDEO_NAME = f'out{camera_number}F.mp4'\n",
    "ROW_POINTS = 5\n",
    "COLUMNS_POINTS = 7\n",
    "# Open the video file \n",
    "video_capture = cv2.VideoCapture(filename=f'{abs_dir_path}{VIDEO_NAME}')\n",
    "\n",
    "# Print the number of frames in the video\n",
    "number_of_frame = int(video_capture.get(cv2.CAP_PROP_FRAME_COUNT))\n",
    "print(\"Number of frames in the video: \", number_of_frame)\n",
    "#superior level frame_skip\n",
    "frame_skip = number_of_frame / image_number\n",
    "#sub level frame skip 10 frames\n",
    "sub_skip = 10"
   ]
  },
  {
   "cell_type": "code",
   "execution_count": 3,
   "metadata": {},
   "outputs": [
    {
     "name": "stdout",
     "output_type": "stream",
     "text": [
      "Saving frames to  samples/out1F.mp4\n"
     ]
    },
    {
     "ename": "IsADirectoryError",
     "evalue": "[Errno 21] Is a directory: 'samples/out1F.mp4/samples'",
     "output_type": "error",
     "traceback": [
      "\u001b[0;31m---------------------------------------------------------------------------\u001b[0m",
      "\u001b[0;31mIsADirectoryError\u001b[0m                         Traceback (most recent call last)",
      "Cell \u001b[0;32mIn[3], line 7\u001b[0m\n\u001b[1;32m      5\u001b[0m \u001b[38;5;66;03m# Remove all files in the directory\u001b[39;00m\n\u001b[1;32m      6\u001b[0m \u001b[38;5;28;01mfor\u001b[39;00m file \u001b[38;5;129;01min\u001b[39;00m os\u001b[38;5;241m.\u001b[39mlistdir(output_dir):\n\u001b[0;32m----> 7\u001b[0m     \u001b[43mos\u001b[49m\u001b[38;5;241;43m.\u001b[39;49m\u001b[43mremove\u001b[49m\u001b[43m(\u001b[49m\u001b[43mos\u001b[49m\u001b[38;5;241;43m.\u001b[39;49m\u001b[43mpath\u001b[49m\u001b[38;5;241;43m.\u001b[39;49m\u001b[43mjoin\u001b[49m\u001b[43m(\u001b[49m\u001b[43moutput_dir\u001b[49m\u001b[43m,\u001b[49m\u001b[43m \u001b[49m\u001b[43mfile\u001b[49m\u001b[43m)\u001b[49m\u001b[43m)\u001b[49m\n\u001b[1;32m      9\u001b[0m os\u001b[38;5;241m.\u001b[39mchdir(output_dir)\n",
      "\u001b[0;31mIsADirectoryError\u001b[0m: [Errno 21] Is a directory: 'samples/out1F.mp4/samples'"
     ]
    }
   ],
   "source": [
    "# Create a directory to save the screen captures named as the video file\n",
    "output_dir = 'samples/' + VIDEO_NAME\n",
    "os.makedirs(output_dir, exist_ok=True)\n",
    "print(\"Saving frames to \", output_dir)\n",
    "# Remove all files in the directory\n",
    "for file in os.listdir(output_dir):\n",
    "    os.remove(os.path.join(output_dir, file))\n",
    "\n",
    "os.chdir(output_dir)\n",
    "\n"
   ]
  },
  {
   "cell_type": "code",
   "execution_count": 10,
   "metadata": {},
   "outputs": [
    {
     "name": "stdout",
     "output_type": "stream",
     "text": [
      "0\n",
      "10\n",
      "20\n",
      "30\n",
      "40\n",
      "50\n",
      "60\n",
      "70\n",
      "80\n",
      "90\n",
      "100\n",
      "110\n",
      "120\n",
      "130\n",
      "saving to JSON\n",
      "140\n",
      "150\n",
      "160\n",
      "170\n",
      "180\n",
      "190\n",
      "200\n",
      "210\n",
      "220\n",
      "saving to JSON\n",
      "230\n",
      "240\n",
      "250\n",
      "260\n",
      "270\n",
      "280\n",
      "290\n",
      "True\n"
     ]
    }
   ],
   "source": [
    "##JSON TEST\n",
    "frame_skip = 10\n",
    "for i in range(1400):\n",
    "    ret, img = video_capture.read()\n",
    "\n",
    "json_dict = {}\n",
    "\n",
    "while True:\n",
    "        # Read a frame from the video\n",
    "        ret, img = video_capture.read()\n",
    "        if not ret:\n",
    "            break  # Break the loop if we've reached the end of the video\n",
    "\n",
    "        # Skip frames based on the frame_skip value\n",
    "        if frame_count % frame_skip == 0 :\n",
    "            # Resize the frame to the new_resolution\n",
    "            real_img = img\n",
    "            \n",
    "            gray = cv2.cvtColor(img, cv2.COLOR_BGR2GRAY)\n",
    "            #corners = []\n",
    "            # Find the chessboard corners\n",
    "            found_corners, corners = cv2.findChessboardCorners(gray, (ROW_POINTS, COLUMNS_POINTS), corners= None)\n",
    "            #res_img = cv2.drawChessboardCorners(img,(ROW_POINTS,COLUMNS_POINTS),corners,found_corners)\n",
    "            if found_corners:\n",
    "                #populating the dictionary with the points\n",
    "                print('saving to JSON')\n",
    "                json_dict.update([[f\"{camera_number}_{1000 + frame_count}\" , corners.tolist()]])\n",
    "            print(frame_count)\n",
    "        \n",
    "            #print(\"Frame \", frame_count, \":\", found_corners)\n",
    "            #res_img = cv2.cvtColor(res_img, cv2.COLOR_GRAY2BGR)\n",
    "        frame_count += 1  \n",
    "        if frame_count == 300:\n",
    "            break  \n",
    "\n",
    "res = saveToJSON(json_dict, camera_number)\n",
    "print(res)"
   ]
  },
  {
   "cell_type": "code",
   "execution_count": null,
   "metadata": {},
   "outputs": [],
   "source": [
    "video_capture = cv2.VideoCapture(f'{abs_dir_path}{VIDEO_NAME}')\n",
    "\n",
    "FRAME_NUMBER = 500\n",
    "frame_count = 0\n",
    "img = 0\n",
    "while frame_count != FRAME_NUMBER:\n",
    "    ret, img = video_capture.read()\n",
    "    frame_count += 1\n",
    "\n",
    "res_img = img\n",
    "\n",
    "cv2.namedWindow(f'{FRAME_NUMBER}', flags= cv2.WINDOW_NORMAL)\n",
    "cv2.resizeWindow(f'{FRAME_NUMBER}', 1280, 720)\n",
    "# cv2.imshow(f'{FRAME_NUMBER}', img)\n",
    "# cv2.waitKey(0)\n",
    "# cv2.destroyAllWindows()\n",
    "gray = cv2.cvtColor(img, cv2.COLOR_BGR2GRAY)\n",
    "\n",
    "found_config = []\n",
    "found_corners = []\n",
    "\n",
    "np.arange(1,8)\n",
    "\n",
    "print(create2DArray(3,8))\n",
    "\n",
    "for a,b in create2DArray(5,8):\n",
    "    print(f\"{a}, {b}\")\n",
    "    ret, corners = cv2.findChessboardCorners(gray, (a, b), None)\n",
    "    if ret == True:\n",
    "        print(\"found one\")\n",
    "        found_config.append([a,b])\n",
    "        found_corners.append([[a,b],corners])\n",
    "\n",
    "print(f\"configurazioni trovate: {found_config}\")\n",
    "\n",
    "cv2.drawChessboardCorners(res_img,(found_config[0][0],found_config[0][1]), found_corners[0][1], True)\n",
    "cv2.imshow(f'{FRAME_NUMBER}', res_img)\n",
    "cv2.waitKey(0)\n",
    "cv2.destroyAllWindows()\n",
    "\n",
    "img_path_name = f'{found_config[0]}.jpg'\n",
    "cv2.imwrite(img_path_name, res_img)"
   ]
  },
  {
   "cell_type": "code",
   "execution_count": 22,
   "metadata": {},
   "outputs": [],
   "source": [
    "saveToJSON(np.array([[12,3],[3,3]]),1,210)\n",
    "saveToJSON(np.array([[12,3],[3,3]]),2,100)\n"
   ]
  }
 ],
 "metadata": {
  "kernelspec": {
   "display_name": "siv_env",
   "language": "python",
   "name": "python3"
  },
  "language_info": {
   "codemirror_mode": {
    "name": "ipython",
    "version": 3
   },
   "file_extension": ".py",
   "mimetype": "text/x-python",
   "name": "python",
   "nbconvert_exporter": "python",
   "pygments_lexer": "ipython3",
   "version": "3.8.10"
  }
 },
 "nbformat": 4,
 "nbformat_minor": 2
}
